{
  "nbformat": 4,
  "nbformat_minor": 0,
  "metadata": {
    "colab": {
      "name": "preprocessing.ipynb",
      "provenance": [],
      "collapsed_sections": []
    },
    "kernelspec": {
      "name": "python3",
      "display_name": "Python 3"
    },
    "language_info": {
      "name": "python"
    }
  },
  "cells": [
    {
      "cell_type": "markdown",
      "metadata": {
        "id": "qqnONJn2Q4Lu"
      },
      "source": [
        "# Text Cleaning and Pre-processing\n",
        "\n",
        "\n",
        "In Natural Language Processing (NLP), most of the text and documents contain many words that are redundant for text classification, such as stopwords, miss-spellings, slangs, and etc. These are some techniques and methods for text cleaning and pre-processing to eliminate noise and unnecessary features that can negatively affect the overall performance. \n",
        "\n",
        "\n",
        "## Tokenization \n",
        "\n",
        "Tokenization is the process of breaking down a stream of text into words, phrases, symbols, or any other meaningful elements called tokens.\n",
        "\n"
      ]
    },
    {
      "cell_type": "code",
      "metadata": {
        "id": "y35xrLcDRzYo"
      },
      "source": [
        "import nltk\n",
        "nltk.download('punkt')\n",
        "\n",
        "from nltk.tokenize import word_tokenize\n",
        "\n",
        "text = \"Computers don't speak English. So, we've to learn C, C++, Java, Python and the like! Yay!\""
      ],
      "execution_count": null,
      "outputs": []
    },
    {
      "cell_type": "code",
      "metadata": {
        "colab": {
          "base_uri": "https://localhost:8080/"
        },
        "id": "lACpGYLYZoqs",
        "outputId": "50a08e19-ba2e-4a80-93e1-a23db5e77e16"
      },
      "source": [
        "words = nltk.word_tokenize(text) \n",
        "print(words)"
      ],
      "execution_count": 76,
      "outputs": [
        {
          "output_type": "stream",
          "text": [
            "['Computers', 'do', \"n't\", 'speak', 'English', '.', 'So', ',', 'we', \"'ve\", 'to', 'learn', 'C', ',', 'C++', ',', 'Java', ',', 'Python', 'and', 'the', 'like', '!', 'Yay', '!']\n"
          ],
          "name": "stdout"
        }
      ]
    },
    {
      "cell_type": "markdown",
      "metadata": {
        "id": "oBhu0CRWSBGZ"
      },
      "source": [
        "\n",
        "\n",
        "## Noise cleaning\n",
        "\n",
        "Remove white spaces, special characters, and punctuations.\n"
      ]
    },
    {
      "cell_type": "code",
      "metadata": {
        "id": "ugNi2MBiSZNs"
      },
      "source": [
        "import string"
      ],
      "execution_count": 29,
      "outputs": []
    },
    {
      "cell_type": "code",
      "metadata": {
        "colab": {
          "base_uri": "https://localhost:8080/"
        },
        "id": "S6-MXBvDZxQq",
        "outputId": "4946a6da-075e-47a9-e175-c38f3f5d7c70"
      },
      "source": [
        "punctuations = list(string.punctuation)\n",
        "print(punctuations)"
      ],
      "execution_count": 77,
      "outputs": [
        {
          "output_type": "stream",
          "text": [
            "['!', '\"', '#', '$', '%', '&', \"'\", '(', ')', '*', '+', ',', '-', '.', '/', ':', ';', '<', '=', '>', '?', '@', '[', '\\\\', ']', '^', '_', '`', '{', '|', '}', '~']\n"
          ],
          "name": "stdout"
        }
      ]
    },
    {
      "cell_type": "code",
      "metadata": {
        "colab": {
          "base_uri": "https://localhost:8080/"
        },
        "id": "27wQ0mF8Z0rD",
        "outputId": "6875df16-360b-49b8-8ddc-24ece9b76ef1"
      },
      "source": [
        "words = [word for word in words if word not in punctuations]\n",
        "print(len(words), \"words without stopwords and punctuations:\", words)\n",
        "print(words)"
      ],
      "execution_count": 78,
      "outputs": [
        {
          "output_type": "stream",
          "text": [
            "18 words without stopwords and punctuations: ['Computers', 'do', \"n't\", 'speak', 'English', 'So', 'we', \"'ve\", 'to', 'learn', 'C', 'C++', 'Java', 'Python', 'and', 'the', 'like', 'Yay']\n",
            "['Computers', 'do', \"n't\", 'speak', 'English', 'So', 'we', \"'ve\", 'to', 'learn', 'C', 'C++', 'Java', 'Python', 'and', 'the', 'like', 'Yay']\n"
          ],
          "name": "stdout"
        }
      ]
    },
    {
      "cell_type": "markdown",
      "metadata": {
        "id": "s4r2r0u-SZsf"
      },
      "source": [
        "\n",
        "## Spell checking\n",
        "\n",
        "An optional part of the pre-processing step is correcting the misspelled words. \n",
        "\n",
        "*italicized text*"
      ]
    },
    {
      "cell_type": "code",
      "metadata": {
        "colab": {
          "base_uri": "https://localhost:8080/"
        },
        "id": "a130gXWOScQd",
        "outputId": "24e3ee04-ae59-49ac-8bf2-374932f615c5"
      },
      "source": [
        "!pip install autocorrect\n",
        "from autocorrect import Speller\n",
        "check = Speller(lang='en')\n",
        "\n"
      ],
      "execution_count": 48,
      "outputs": [
        {
          "output_type": "stream",
          "text": [
            "Requirement already satisfied: autocorrect in /usr/local/lib/python3.7/dist-packages (2.5.0)\n"
          ],
          "name": "stdout"
        }
      ]
    },
    {
      "cell_type": "code",
      "metadata": {
        "colab": {
          "base_uri": "https://localhost:8080/"
        },
        "id": "1M8Ga4I5awm8",
        "outputId": "6602c111-ae06-43b6-80f3-d6469fae9f4a"
      },
      "source": [
        "print(check('caaaar'))\n",
        "print(check('mussage'))\n",
        "print(check('survice'))\n",
        "print(check('hte'))"
      ],
      "execution_count": 79,
      "outputs": [
        {
          "output_type": "stream",
          "text": [
            "aaaaaa\n",
            "message\n",
            "service\n",
            "the\n"
          ],
          "name": "stdout"
        }
      ]
    },
    {
      "cell_type": "markdown",
      "metadata": {
        "id": "bpDZ0ysjSclT"
      },
      "source": [
        "## Contractions mapping\n",
        "*italicized text*\n",
        "Standardize text data!\n",
        "\n"
      ]
    },
    {
      "cell_type": "code",
      "metadata": {
        "id": "z__ZycxvSemt"
      },
      "source": [
        "!pip install contractions\n",
        "import contractions"
      ],
      "execution_count": null,
      "outputs": []
    },
    {
      "cell_type": "code",
      "metadata": {
        "colab": {
          "base_uri": "https://localhost:8080/"
        },
        "id": "AsJqoTJZeMt3",
        "outputId": "d116846d-cea0-482c-e9e8-ba56b844de0b"
      },
      "source": [
        "corpus = [\"The brown fox wasn't that quick and he couldn't win the race\",\n",
        "          \"Hey that's a great deal! I just bought a phone for $199\",\n",
        "          \"@@You'll (learn) a **lot** in the book. Python is an amazing language!@@\"]\n",
        "\n",
        "expand_contraction = [contractions.fix(c) for c in corpus]\n",
        "print(expand_contraction)\n"
      ],
      "execution_count": 80,
      "outputs": [
        {
          "output_type": "stream",
          "text": [
            "['The brown fox was not that quick and he could not win the race', 'Hey that is a great deal! I just bought a phone for $199', '@@you will (learn) a **lot** in the book. Python is an amazing language!@@']\n"
          ],
          "name": "stdout"
        }
      ]
    },
    {
      "cell_type": "markdown",
      "metadata": {
        "id": "qarOk27NSezx"
      },
      "source": [
        "## Stemming/lemmatization\n",
        "\n",
        "Reduce different forms of a used word.\n",
        "\n",
        "**Stemming:** less complicated   \n",
        "\n"
      ]
    },
    {
      "cell_type": "code",
      "metadata": {
        "id": "3YDw_Mo8SiRM"
      },
      "source": [
        "from nltk.stem import PorterStemmer\n",
        "\n",
        "ps = PorterStemmer()\n"
      ],
      "execution_count": null,
      "outputs": []
    },
    {
      "cell_type": "code",
      "metadata": {
        "colab": {
          "base_uri": "https://localhost:8080/"
        },
        "id": "CqM6iWiYfUWv",
        "outputId": "cd78c4d7-2f4a-4a87-8a35-3224cdeda340"
      },
      "source": [
        "# choose some words to be stemmed\n",
        "words = [\"program\", \"programs\", \"programmer\", \"programming\", \"programmers\"]\n",
        " \n",
        "for w in words:\n",
        "    print(w, \" : \", ps.stem(w))"
      ],
      "execution_count": 81,
      "outputs": [
        {
          "output_type": "stream",
          "text": [
            "program  :  program\n",
            "programs  :  program\n",
            "programmer  :  programm\n",
            "programming  :  program\n",
            "programmers  :  programm\n"
          ],
          "name": "stdout"
        }
      ]
    },
    {
      "cell_type": "markdown",
      "metadata": {
        "id": "lXAZsMI6Sic8"
      },
      "source": [
        "**Lemmatization**: true word\n",
        "\n"
      ]
    },
    {
      "cell_type": "code",
      "metadata": {
        "id": "KvyCYQ8ySkG_"
      },
      "source": [
        "import nltk\n",
        "nltk.download('wordnet')\n",
        "from nltk.stem import WordNetLemmatizer\n",
        "  \n",
        "# Create WordNetLemmatizer object\n",
        "wnl = WordNetLemmatizer()\n"
      ],
      "execution_count": null,
      "outputs": []
    },
    {
      "cell_type": "code",
      "metadata": {
        "colab": {
          "base_uri": "https://localhost:8080/"
        },
        "id": "-SBlzUcWhAon",
        "outputId": "a2327e0c-8115-414e-abca-4fce9b033dc8"
      },
      "source": [
        "# single word lemmatization examples\n",
        "list1 = ['kites', 'babies', 'dogs', 'flying', 'smiling', \n",
        "         'driving', 'died', 'tried', 'feet']\n",
        "for words in list1:\n",
        "    print(words + \" ---> \" + wnl.lemmatize(words))"
      ],
      "execution_count": 82,
      "outputs": [
        {
          "output_type": "stream",
          "text": [
            "kites ---> kite\n",
            "babies ---> baby\n",
            "dogs ---> dog\n",
            "flying ---> flying\n",
            "smiling ---> smiling\n",
            "driving ---> driving\n",
            "died ---> died\n",
            "tried ---> tried\n",
            "feet ---> foot\n"
          ],
          "name": "stdout"
        }
      ]
    },
    {
      "cell_type": "markdown",
      "metadata": {
        "id": "3HMk0Vg1SkXF"
      },
      "source": [
        "## Stop words identification \n",
        "In natural language processing, useless words (data), are referred to as stop words (such as “the”, “a”, “an”, “in”). \n",
        "\n",
        "[link text](https://)"
      ]
    },
    {
      "cell_type": "code",
      "metadata": {
        "id": "WmUhdzUZSmkx"
      },
      "source": [
        "import nltk\n",
        "nltk.download('stopwords')"
      ],
      "execution_count": null,
      "outputs": []
    },
    {
      "cell_type": "code",
      "metadata": {
        "colab": {
          "base_uri": "https://localhost:8080/"
        },
        "id": "fd82rMqUhcB0",
        "outputId": "37ba1629-d408-4468-c1a2-b0be33f3f1b5"
      },
      "source": [
        "stop_word_list = nltk.corpus.stopwords.words('english')\n",
        "print(stop_word_list)"
      ],
      "execution_count": 83,
      "outputs": [
        {
          "output_type": "stream",
          "text": [
            "['i', 'me', 'my', 'myself', 'we', 'our', 'ours', 'ourselves', 'you', \"you're\", \"you've\", \"you'll\", \"you'd\", 'your', 'yours', 'yourself', 'yourselves', 'he', 'him', 'his', 'himself', 'she', \"she's\", 'her', 'hers', 'herself', 'it', \"it's\", 'its', 'itself', 'they', 'them', 'their', 'theirs', 'themselves', 'what', 'which', 'who', 'whom', 'this', 'that', \"that'll\", 'these', 'those', 'am', 'is', 'are', 'was', 'were', 'be', 'been', 'being', 'have', 'has', 'had', 'having', 'do', 'does', 'did', 'doing', 'a', 'an', 'the', 'and', 'but', 'if', 'or', 'because', 'as', 'until', 'while', 'of', 'at', 'by', 'for', 'with', 'about', 'against', 'between', 'into', 'through', 'during', 'before', 'after', 'above', 'below', 'to', 'from', 'up', 'down', 'in', 'out', 'on', 'off', 'over', 'under', 'again', 'further', 'then', 'once', 'here', 'there', 'when', 'where', 'why', 'how', 'all', 'any', 'both', 'each', 'few', 'more', 'most', 'other', 'some', 'such', 'no', 'nor', 'not', 'only', 'own', 'same', 'so', 'than', 'too', 'very', 's', 't', 'can', 'will', 'just', 'don', \"don't\", 'should', \"should've\", 'now', 'd', 'll', 'm', 'o', 're', 've', 'y', 'ain', 'aren', \"aren't\", 'couldn', \"couldn't\", 'didn', \"didn't\", 'doesn', \"doesn't\", 'hadn', \"hadn't\", 'hasn', \"hasn't\", 'haven', \"haven't\", 'isn', \"isn't\", 'ma', 'mightn', \"mightn't\", 'mustn', \"mustn't\", 'needn', \"needn't\", 'shan', \"shan't\", 'shouldn', \"shouldn't\", 'wasn', \"wasn't\", 'weren', \"weren't\", 'won', \"won't\", 'wouldn', \"wouldn't\"]\n"
          ],
          "name": "stdout"
        }
      ]
    },
    {
      "cell_type": "code",
      "metadata": {
        "colab": {
          "base_uri": "https://localhost:8080/"
        },
        "id": "QM2_PVsFhcPV",
        "outputId": "ce200a77-90c7-4f2d-8ab3-9436da3318d2"
      },
      "source": [
        "def remove_stop_words(text):\n",
        "    filtered_words = [t for t in text if t not in stop_word_list]\n",
        "    return filtered_words\n",
        "\n",
        "\n",
        "def tokenize_text(text):\n",
        "    return nltk.word_tokenize(text)\n",
        "\n",
        "corpus = ['The brown fox was not that quick and he could not win the race', \n",
        "'Hey that is a great deal! I just bought a phone for 199',\n",
        " 'you will (learn) a lot  in the book. Python is an amazing language']\n",
        "\n",
        "\n",
        "tokenize_text  = [tokenize_text(c) for c in corpus]\n",
        "filtered_text  = [remove_stop_words(t) for t in tokenize_text]\n",
        "\n",
        "print(filtered_text)"
      ],
      "execution_count": 84,
      "outputs": [
        {
          "output_type": "stream",
          "text": [
            "[['The', 'brown', 'fox', 'quick', 'could', 'win', 'race'], ['Hey', 'great', 'deal', '!', 'I', 'bought', 'phone', '199'], ['(', 'learn', ')', 'lot', 'book', '.', 'Python', 'amazing', 'language']]\n"
          ],
          "name": "stdout"
        }
      ]
    },
    {
      "cell_type": "markdown",
      "metadata": {
        "id": "g4ZnjZMCSm4k"
      },
      "source": [
        "## Capitalization\n",
        "\n",
        "Sentences can contain a mixture of uppercase and lower case letters. To reduce the problem space, the most common approach is to reduce everything to lower case. "
      ]
    },
    {
      "cell_type": "code",
      "metadata": {
        "colab": {
          "base_uri": "https://localhost:8080/"
        },
        "id": "LWUmCDH8SnqE",
        "outputId": "345b0765-b964-49fd-9cc1-ac44c09c83de"
      },
      "source": [
        "text = \"The United States of America (USA) or America, is a federal republic composed of 50 states\"\n",
        "print(text)\n",
        "print(text.lower())"
      ],
      "execution_count": 85,
      "outputs": [
        {
          "output_type": "stream",
          "text": [
            "The United States of America (USA) or America, is a federal republic composed of 50 states\n",
            "the united states of america (usa) or america, is a federal republic composed of 50 states\n"
          ],
          "name": "stdout"
        }
      ]
    }
  ]
}